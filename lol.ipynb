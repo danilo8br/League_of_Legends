{
 "cells": [
  {
   "cell_type": "code",
   "execution_count": null,
   "metadata": {},
   "outputs": [],
   "source": [
    "from selenium import webdriver\n",
    "from time import sleep\n",
    "import csv"
   ]
  },
  {
   "cell_type": "code",
   "execution_count": null,
   "metadata": {},
   "outputs": [],
   "source": [
    "driver = webdriver.Chrome('chromedriver')\n",
    "driver.get('https://br.leagueoflegends.com/pt-br/champions/')"
   ]
  },
  {
   "cell_type": "code",
   "execution_count": null,
   "metadata": {},
   "outputs": [],
   "source": [
    "# OBS: Necessário utilizar o sleep para razer requisição completa\n",
    "with open('lol1.csv', 'a', newline='', encoding='utf-8') as file:\n",
    "    # Difinindo as colunas do arquivo\n",
    "    fieldnames = ['Nome', 'Funcao', 'Dificuldade', 'Sobre', 'Imagem_Personagem']\n",
    "    writer = csv.DictWriter(file, fieldnames=fieldnames)\n",
    "    writer.writeheader()\n",
    "    for c in range(1, 157):\n",
    "        # Pegando os nomes dos personagens\n",
    "        nome_personagem = driver.find_element_by_xpath(f'//*[@id=\"gatsby-focus-wrapper\"]/div/div[2]/section/div[2]/section[2]/div[2]/a[{c}]').text\n",
    "        sleep(5)\n",
    "        # Pegando as imagens dos personagens\n",
    "        imagem_personagem = driver.find_element_by_xpath(f'//*[@id=\"gatsby-focus-wrapper\"]/div/div[2]/section/div[2]/section[2]/div[2]/a[{c}]/span[1]/img').get_attribute('src')\n",
    "        sleep(5)\n",
    "        # Clicando em cada personagem\n",
    "        driver.find_element_by_xpath(f'//*[@id=\"gatsby-focus-wrapper\"]/div/div[2]/section/div[2]/section[2]/div[2]/a[{c}]/span[1]/img').click()\n",
    "        sleep(5)\n",
    "        # Pegando as funções\n",
    "        funcao = driver.find_element_by_xpath('//*[@id=\"gatsby-focus-wrapper\"]/div/section[1]/div[3]/div[2]/div[3]/div[1]/ul/li[1]/div[3]').text\n",
    "        sleep(5)\n",
    "        # Pegando a dificuldade\n",
    "        dificuldade = driver.find_element_by_xpath('//*[@id=\"gatsby-focus-wrapper\"]/div/section[1]/div[3]/div[2]/div[3]/div[1]/ul/li[2]/div[3]').text\n",
    "        sleep(5)\n",
    "        # Pegando sobre o personagem\n",
    "        try:\n",
    "            driver.find_element_by_xpath('//*[@id=\"gatsby-focus-wrapper\"]/div/section[1]/div[3]/div[2]/div[3]/div[3]/p/button').click()\n",
    "            sobre = driver.find_element_by_xpath('//*[@id=\"gatsby-focus-wrapper\"]/div/section[1]/div[3]/div[2]/div[3]/div[3]').text\n",
    "        except:\n",
    "            sobre = driver.find_element_by_xpath('//*[@id=\"gatsby-focus-wrapper\"]/div/section[1]/div[3]/div[2]/div[3]/div[3]').text\n",
    "        driver.back()\n",
    "        # Inserindo dados no arquivo\n",
    "        writer.writerow({'Nome': nome_personagem, 'Funcao': funcao, 'Dificuldade': dificuldade, 'Sobre': sobre, 'Imagem': imagem_personagem})\n",
    "        sleep(5)"
   ]
  }
 ],
 "metadata": {
  "kernelspec": {
   "display_name": "Python 3",
   "language": "python",
   "name": "python3"
  },
  "language_info": {
   "codemirror_mode": {
    "name": "ipython",
    "version": 3
   },
   "file_extension": ".py",
   "mimetype": "text/x-python",
   "name": "python",
   "nbconvert_exporter": "python",
   "pygments_lexer": "ipython3",
   "version": "3.8.5"
  }
 },
 "nbformat": 4,
 "nbformat_minor": 4
}
